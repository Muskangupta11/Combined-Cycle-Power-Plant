{
 "cells": [
  {
   "cell_type": "code",
   "execution_count": 1,
   "id": "f880e393",
   "metadata": {},
   "outputs": [],
   "source": [
    "import numpy as np\n",
    "import pandas as pd\n",
    "import matplotlib.pyplot as plt"
   ]
  },
  {
   "cell_type": "code",
   "execution_count": 2,
   "id": "2405d953",
   "metadata": {},
   "outputs": [],
   "source": [
    "#importing dataset\n",
    "dataset=pd.read_csv('data.csv')\n",
    "x=dataset.iloc[:,:-1].values\n",
    "y=dataset.iloc[:,-1].values"
   ]
  },
  {
   "cell_type": "code",
   "execution_count": 3,
   "id": "96c56df5",
   "metadata": {},
   "outputs": [
    {
     "data": {
      "text/plain": [
       "AT    0\n",
       "V     0\n",
       "AP    0\n",
       "RH    0\n",
       "PE    0\n",
       "dtype: int64"
      ]
     },
     "execution_count": 3,
     "metadata": {},
     "output_type": "execute_result"
    }
   ],
   "source": [
    "#check null value\n",
    "dataset.isnull().sum()"
   ]
  },
  {
   "cell_type": "code",
   "execution_count": 4,
   "id": "9114ecf0",
   "metadata": {},
   "outputs": [
    {
     "name": "stdout",
     "output_type": "stream",
     "text": [
      "[463.26 444.37 488.56 ... 429.57 435.74 453.28]\n",
      "[[463.26]\n",
      " [444.37]\n",
      " [488.56]\n",
      " ...\n",
      " [429.57]\n",
      " [435.74]\n",
      " [453.28]]\n"
     ]
    }
   ],
   "source": [
    "print(y)\n",
    "y=y.reshape(-1,1)\n",
    "print(y)"
   ]
  },
  {
   "cell_type": "code",
   "execution_count": 5,
   "id": "6a210549",
   "metadata": {},
   "outputs": [
    {
     "name": "stdout",
     "output_type": "stream",
     "text": [
      "[[431.23]\n",
      " [460.01]\n",
      " [461.14]\n",
      " ...\n",
      " [473.26]\n",
      " [438.  ]\n",
      " [463.28]]\n"
     ]
    }
   ],
   "source": [
    "#spliting dataset\n",
    "from sklearn.model_selection import train_test_split\n",
    "x_train,x_test,y_train,y_test=train_test_split(x,y,test_size=0.2,random_state=0)\n",
    "print(y_test)"
   ]
  },
  {
   "cell_type": "code",
   "execution_count": 6,
   "id": "6b80a0cf",
   "metadata": {},
   "outputs": [],
   "source": [
    "#feature scaling\n",
    "from sklearn.preprocessing import StandardScaler\n",
    "ss_x=StandardScaler()\n",
    "x_train=ss_x.fit_transform(x_train)\n",
    "ss_y=StandardScaler()\n",
    "y_train=ss_y.fit_transform(y_train)"
   ]
  },
  {
   "cell_type": "code",
   "execution_count": 7,
   "id": "5a866061",
   "metadata": {},
   "outputs": [
    {
     "name": "stderr",
     "output_type": "stream",
     "text": [
      "/Users/muskangupta/opt/anaconda3/lib/python3.9/site-packages/sklearn/utils/validation.py:993: DataConversionWarning: A column-vector y was passed when a 1d array was expected. Please change the shape of y to (n_samples, ), for example using ravel().\n",
      "  y = column_or_1d(y, warn=True)\n"
     ]
    },
    {
     "data": {
      "text/plain": [
       "SVR()"
      ]
     },
     "execution_count": 7,
     "metadata": {},
     "output_type": "execute_result"
    }
   ],
   "source": [
    "#model training\n",
    "from sklearn.svm import SVR\n",
    "sr=SVR(kernel='rbf')\n",
    "sr.fit(x_train, y_train)\n"
   ]
  },
  {
   "cell_type": "code",
   "execution_count": 8,
   "id": "d18e55f3",
   "metadata": {},
   "outputs": [
    {
     "name": "stdout",
     "output_type": "stream",
     "text": [
      "[-1.18727339  0.21311322  0.39445405 ...  0.9556216  -0.87278266\n",
      "  0.38779571]\n",
      "[[-1.18727339]\n",
      " [ 0.21311322]\n",
      " [ 0.39445405]\n",
      " ...\n",
      " [ 0.9556216 ]\n",
      " [-0.87278266]\n",
      " [ 0.38779571]]\n",
      "[[431.23]\n",
      " [460.01]\n",
      " [461.14]\n",
      " ...\n",
      " [473.26]\n",
      " [438.  ]\n",
      " [463.28]]\n"
     ]
    }
   ],
   "source": [
    "#predict\n",
    "y_pred=sr.predict(ss_x.transform(x_test))\n",
    "print(y_pred)\n",
    "y_pred=y_pred.reshape(-1,1)\n",
    "print(y_pred)\n",
    "print(y_test)"
   ]
  },
  {
   "cell_type": "code",
   "execution_count": 11,
   "id": "ad39079c",
   "metadata": {},
   "outputs": [
    {
     "name": "stdout",
     "output_type": "stream",
     "text": [
      "[[7857.71 7809.57]\n",
      " [8265.12 8300.46]\n",
      " [8317.87 8319.73]\n",
      " ...\n",
      " [8481.13 8526.46]\n",
      " [7949.2  7925.04]\n",
      " [8315.94 8356.23]]\n"
     ]
    }
   ],
   "source": [
    "y_pred=ss_y.inverse_transform(y_pred)\n",
    "np.set_printoptions(precision=2)\n",
    "print(np.concatenate((y_pred.reshape(-1,1),y_test.reshape(-1,1)),1))"
   ]
  },
  {
   "cell_type": "code",
   "execution_count": 12,
   "id": "5a81d532",
   "metadata": {},
   "outputs": [
    {
     "data": {
      "text/plain": [
       "0.948078404998626"
      ]
     },
     "execution_count": 12,
     "metadata": {},
     "output_type": "execute_result"
    }
   ],
   "source": [
    "from sklearn.metrics import r2_score\n",
    "r2_score(y_test, y_pred)"
   ]
  }
 ],
 "metadata": {
  "kernelspec": {
   "display_name": "Python 3.9.7 64-bit ('base': conda)",
   "language": "python",
   "name": "python397jvsc74a57bd0baf4c38d3b4d6e7f3b3e0eff052f040374f76d239482e52f152f559250217946"
  },
  "language_info": {
   "codemirror_mode": {
    "name": "ipython",
    "version": 3
   },
   "file_extension": ".py",
   "mimetype": "text/x-python",
   "name": "python",
   "nbconvert_exporter": "python",
   "pygments_lexer": "ipython3",
   "version": "3.9.12"
  }
 },
 "nbformat": 4,
 "nbformat_minor": 5
}
